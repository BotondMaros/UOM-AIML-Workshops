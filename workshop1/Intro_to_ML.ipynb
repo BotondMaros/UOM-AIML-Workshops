{
 "cells": [
  {
   "cell_type": "markdown",
   "metadata": {
    "colab_type": "text",
    "id": "CrcrDOqd-Gox"
   },
   "source": [
    "*AI/ML Society 2nd October 2019*\n",
    "# Introduction to Machine Learning:\n",
    "## *The MNIST handwritten digits Dataset*"
   ]
  },
  {
   "cell_type": "markdown",
   "metadata": {
    "colab_type": "text",
    "id": "5gYKmk70_8iL"
   },
   "source": [
    "This data set was made available by Yann LeCun. This tutorial is based of ressouces from scikit-learn.org.*"
   ]
  },
  {
   "cell_type": "markdown",
   "metadata": {
    "colab_type": "text",
    "id": "UgztdFm-4waI"
   },
   "source": [
    "### Multiple libraries required to import, visualize and treat the data"
   ]
  },
  {
   "cell_type": "code",
   "execution_count": 0,
   "metadata": {
    "colab": {},
    "colab_type": "code",
    "id": "OSJZNBH94t7q"
   },
   "outputs": [],
   "source": [
    "import matplotlib.pyplot as plt \n",
    "import numpy as np\n",
    "from sklearn import datasets"
   ]
  },
  {
   "cell_type": "markdown",
   "metadata": {
    "colab_type": "text",
    "id": "kexG9TLV5AeI"
   },
   "source": [
    "## 1) Import the data"
   ]
  },
  {
   "cell_type": "markdown",
   "metadata": {
    "colab_type": "text",
    "id": "Y4Vak7im5Q-q"
   },
   "source": [
    "#### *Import the data and store them in 2 variables: The matrix with the image and the corresponding value*"
   ]
  },
  {
   "cell_type": "code",
   "execution_count": 0,
   "metadata": {
    "colab": {},
    "colab_type": "code",
    "id": "uEJHvUIE5LOA"
   },
   "outputs": [],
   "source": [
    "from sklearn import datasets\n",
    "Input_images = datasets.load_digits()\n",
    "X = Input_images.images\n",
    "y = Input_images.target"
   ]
  },
  {
   "cell_type": "markdown",
   "metadata": {
    "colab_type": "text",
    "id": "ubX1KDwL5jPO"
   },
   "source": [
    "#### *Visualize how the data is stored*"
   ]
  },
  {
   "cell_type": "code",
   "execution_count": 0,
   "metadata": {
    "colab": {},
    "colab_type": "code",
    "id": "arbHon885mry"
   },
   "outputs": [],
   "source": [
    "i = 80\n",
    "print (X[i])\n",
    "print ('The corresponding value is: \\n', y[i])"
   ]
  },
  {
   "cell_type": "markdown",
   "metadata": {
    "colab_type": "text",
    "id": "7VY2KVv55rNo"
   },
   "source": [
    "#### *Show what this corresponds to*"
   ]
  },
  {
   "cell_type": "markdown",
   "metadata": {
    "colab_type": "text",
    "id": "qch9P0iSDfe7"
   },
   "source": [
    "> To store an image on a grey scale, all you have to do is associate a value to each of it's pixels.\n",
    "Here we use matplotlib to represent this matrix of numbers as the image it corresponds to."
   ]
  },
  {
   "cell_type": "code",
   "execution_count": 0,
   "metadata": {
    "colab": {},
    "colab_type": "code",
    "id": "J160qZ8m5w7p"
   },
   "outputs": [],
   "source": [
    "plt.imshow(X[i], cmap=plt.cm.gray_r)\n",
    "print(\"\\n\",y[i])"
   ]
  },
  {
   "cell_type": "markdown",
   "metadata": {
    "colab_type": "text",
    "id": "KIa1Cone6VaH"
   },
   "source": [
    "## 2) Process the data"
   ]
  },
  {
   "cell_type": "markdown",
   "metadata": {
    "colab_type": "text",
    "id": "8cijygQE6lj4"
   },
   "source": [
    "#### *We need to flatten the matrix: Instead of having the image in a 8x8 format, we change it to an array of size 64*"
   ]
  },
  {
   "cell_type": "code",
   "execution_count": 0,
   "metadata": {
    "colab": {},
    "colab_type": "code",
    "id": "Qtz2tIAQ623I"
   },
   "outputs": [],
   "source": [
    "number_of_samples = len(X)\n",
    "X_reshaped = np.reshape(X,(number_of_samples,64))"
   ]
  },
  {
   "cell_type": "markdown",
   "metadata": {
    "colab_type": "text",
    "id": "2BPkGbDN68N1"
   },
   "source": [
    "#### *Split between train and test*"
   ]
  },
  {
   "cell_type": "code",
   "execution_count": 0,
   "metadata": {
    "colab": {},
    "colab_type": "code",
    "id": "7LT6Xbua7BqB"
   },
   "outputs": [],
   "source": [
    "from sklearn.model_selection import train_test_split\n",
    "x_train, x_test, y_train, y_test = train_test_split(X_reshaped, y, test_size = 0.7, random_state = 100)"
   ]
  },
  {
   "cell_type": "markdown",
   "metadata": {
    "colab_type": "text",
    "id": "d2UL0XFC7GfT"
   },
   "source": [
    "## 3) Training our model\n"
   ]
  },
  {
   "cell_type": "markdown",
   "metadata": {
    "colab_type": "text",
    "id": "sBa9TqubExOi"
   },
   "source": [
    "> Here we will use a simple Support Vector Machine for classification to execute the required task. In later workshops we will discuss other modules and compare them.\n",
    "\n",
    "\n"
   ]
  },
  {
   "cell_type": "markdown",
   "metadata": {
    "colab_type": "text",
    "id": "yzZbJClt7MkO"
   },
   "source": [
    "#### *Import the model chosen: Support Vector Machine*"
   ]
  },
  {
   "cell_type": "code",
   "execution_count": 0,
   "metadata": {
    "colab": {},
    "colab_type": "code",
    "id": "FYlZnDQK7Z6M"
   },
   "outputs": [],
   "source": [
    "from sklearn import svm"
   ]
  },
  {
   "cell_type": "markdown",
   "metadata": {
    "colab_type": "text",
    "id": "ABA_pVFB7cYt"
   },
   "source": [
    "#### *Create the model*"
   ]
  },
  {
   "cell_type": "code",
   "execution_count": 0,
   "metadata": {
    "colab": {},
    "colab_type": "code",
    "id": "srD_13377hTd"
   },
   "outputs": [],
   "source": [
    "SVM = svm.SVC(gamma=0.001)"
   ]
  },
  {
   "cell_type": "markdown",
   "metadata": {
    "colab_type": "text",
    "id": "17MXIcwM7kGA"
   },
   "source": [
    "#### *Train the model*"
   ]
  },
  {
   "cell_type": "code",
   "execution_count": 0,
   "metadata": {
    "colab": {},
    "colab_type": "code",
    "id": "oepwxDQB7nWX"
   },
   "outputs": [],
   "source": [
    "SVM.fit(x_train, y_train)"
   ]
  },
  {
   "cell_type": "markdown",
   "metadata": {
    "colab_type": "text",
    "id": "i74-Zuox7sM7"
   },
   "source": [
    "#### *Predict values with the already trained model*\n"
   ]
  },
  {
   "cell_type": "markdown",
   "metadata": {
    "colab_type": "text",
    "id": "DyLqRyMLFa7J"
   },
   "source": [
    "> For the test data, let's now see what the machine will predict."
   ]
  },
  {
   "cell_type": "code",
   "execution_count": 0,
   "metadata": {
    "colab": {},
    "colab_type": "code",
    "id": "Y6YWPVqI77VN"
   },
   "outputs": [],
   "source": [
    "y_predicted = SVM.predict(x_test)"
   ]
  },
  {
   "cell_type": "markdown",
   "metadata": {
    "colab_type": "text",
    "id": "bii1_kAj7_vK"
   },
   "source": [
    "#### *Show what these predictions correspond to*"
   ]
  },
  {
   "cell_type": "markdown",
   "metadata": {
    "colab_type": "text",
    "id": "INh0Hl8vFnlN"
   },
   "source": [
    "> Let's visualize what predictions were made for our images. However we have already flatten our input data, so we need to put it back to it's orignial form ie. 8x8."
   ]
  },
  {
   "cell_type": "code",
   "execution_count": 0,
   "metadata": {
    "colab": {},
    "colab_type": "code",
    "id": "gi7wmakQI3RG"
   },
   "outputs": [],
   "source": [
    "x_test"
   ]
  },
  {
   "cell_type": "code",
   "execution_count": 0,
   "metadata": {
    "colab": {},
    "colab_type": "code",
    "id": "xwVtZoL37ytQ"
   },
   "outputs": [],
   "source": [
    "x_test_reshaped = np.reshape(x_test,(len(x_test),8,8))\n",
    "i = 20\n",
    "plt.imshow(x_test_reshaped[i], cmap=plt.cm.gray_r)\n",
    "print(\"The algorithm predicted: \\n\",y_predicted[i])\n",
    "print(\"The true value is: \\n\",y_test[i])\n"
   ]
  },
  {
   "cell_type": "markdown",
   "metadata": {
    "colab_type": "text",
    "id": "7v-6nwS78J7E"
   },
   "source": [
    "## 4) Get a sense of how well our algorithm did"
   ]
  },
  {
   "cell_type": "markdown",
   "metadata": {
    "colab_type": "text",
    "id": "FzfkkUB1F9my"
   },
   "source": [
    "> This section is vital to evaluate our model and see if he is viable. It will compare the predicted values with the true value. The two metrics shown here will be discussed later on in the semester."
   ]
  },
  {
   "cell_type": "markdown",
   "metadata": {
    "colab_type": "text",
    "id": "XmQ7BxQq8QXW"
   },
   "source": [
    "#### *Import Mean square error and confusion matrix to try to get a taste of how good the algorithm did*\n"
   ]
  },
  {
   "cell_type": "code",
   "execution_count": 0,
   "metadata": {
    "colab": {},
    "colab_type": "code",
    "id": "naTOt3-M8UsA"
   },
   "outputs": [],
   "source": [
    "from sklearn.metrics import mean_squared_error\n",
    "from sklearn.metrics import confusion_matrix\n",
    "from sklearn.metrics import accuracy_score"
   ]
  },
  {
   "cell_type": "markdown",
   "metadata": {
    "colab_type": "text",
    "id": "9KqEkinR9SFp"
   },
   "source": [
    "#### *Display these metrics*"
   ]
  },
  {
   "cell_type": "code",
   "execution_count": 0,
   "metadata": {
    "colab": {},
    "colab_type": "code",
    "id": "HTa_ylxB9UZQ"
   },
   "outputs": [],
   "source": [
    "percentage_accuracy = accuracy_score(y_predicted,y_test)*100\n",
    "print (\"Percentage accuracy of the Support Vector Machine is: %s,\" %percentage_accuracy )\n",
    "\n",
    "mean_squared_error = mean_squared_error(y_test, y_predicted)\n",
    "print (\"Mean squared error of the Support Vector Machine is: %s,\"%mean_squared_error)\n",
    "\n",
    "confusion_matrix = confusion_matrix(y_test, y_predicted)\n",
    "print (\"The Confusion matrix is: \\n\",confusion_matrix)\n"
   ]
  },
  {
   "cell_type": "code",
   "execution_count": 0,
   "metadata": {
    "colab": {},
    "colab_type": "code",
    "id": "afGAL0qcuEOw"
   },
   "outputs": [],
   "source": []
  }
 ],
 "metadata": {
  "colab": {
   "collapsed_sections": [
    "17MXIcwM7kGA"
   ],
   "name": "Intro_to_ML.ipynb",
   "provenance": []
  },
  "kernelspec": {
   "display_name": "Python 3",
   "language": "python",
   "name": "python3"
  },
  "language_info": {
   "codemirror_mode": {
    "name": "ipython",
    "version": 3
   },
   "file_extension": ".py",
   "mimetype": "text/x-python",
   "name": "python",
   "nbconvert_exporter": "python",
   "pygments_lexer": "ipython3",
   "version": "3.6.9"
  }
 },
 "nbformat": 4,
 "nbformat_minor": 1
}
